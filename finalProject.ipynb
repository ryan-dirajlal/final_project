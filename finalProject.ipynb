{
 "cells": [
  {
   "cell_type": "code",
   "execution_count": 115,
   "id": "6cebe820-64dd-4750-b60f-bbc571fc06f1",
   "metadata": {},
   "outputs": [],
   "source": [
    "from sklearn.preprocessing import OneHotEncoder"
   ]
  },
  {
   "cell_type": "code",
   "execution_count": 116,
   "id": "348baaa1-9ea8-4cee-89cd-0b658fd80d2f",
   "metadata": {},
   "outputs": [
    {
     "data": {
      "text/html": [
       "<div>\n",
       "<style scoped>\n",
       "    .dataframe tbody tr th:only-of-type {\n",
       "        vertical-align: middle;\n",
       "    }\n",
       "\n",
       "    .dataframe tbody tr th {\n",
       "        vertical-align: top;\n",
       "    }\n",
       "\n",
       "    .dataframe thead th {\n",
       "        text-align: right;\n",
       "    }\n",
       "</style>\n",
       "<table border=\"1\" class=\"dataframe\">\n",
       "  <thead>\n",
       "    <tr style=\"text-align: right;\">\n",
       "      <th></th>\n",
       "      <th>Fiscal Year Released</th>\n",
       "      <th>Recidivism Reporting Year</th>\n",
       "      <th>Race - Ethnicity</th>\n",
       "      <th>Age At Release</th>\n",
       "      <th>Convicting Offense Classification</th>\n",
       "      <th>Convicting Offense Type</th>\n",
       "      <th>Main Supervising District</th>\n",
       "      <th>Release type: Paroled to Detainer united</th>\n",
       "      <th>Part of Target Population</th>\n",
       "      <th>Recidivism - Return to Prison numeric</th>\n",
       "    </tr>\n",
       "  </thead>\n",
       "  <tbody>\n",
       "    <tr>\n",
       "      <th>0</th>\n",
       "      <td>2010</td>\n",
       "      <td>2013</td>\n",
       "      <td>White - Non-Hispanic</td>\n",
       "      <td>Under 25</td>\n",
       "      <td>D Felony</td>\n",
       "      <td>Violent</td>\n",
       "      <td>4JD</td>\n",
       "      <td>Parole</td>\n",
       "      <td>Yes</td>\n",
       "      <td>1</td>\n",
       "    </tr>\n",
       "    <tr>\n",
       "      <th>1</th>\n",
       "      <td>2010</td>\n",
       "      <td>2013</td>\n",
       "      <td>White - Non-Hispanic</td>\n",
       "      <td>55 and Older</td>\n",
       "      <td>D Felony</td>\n",
       "      <td>Public Order</td>\n",
       "      <td>7JD</td>\n",
       "      <td>Parole</td>\n",
       "      <td>Yes</td>\n",
       "      <td>1</td>\n",
       "    </tr>\n",
       "    <tr>\n",
       "      <th>2</th>\n",
       "      <td>2010</td>\n",
       "      <td>2013</td>\n",
       "      <td>White - Non-Hispanic</td>\n",
       "      <td>25-34</td>\n",
       "      <td>D Felony</td>\n",
       "      <td>Property</td>\n",
       "      <td>5JD</td>\n",
       "      <td>Parole</td>\n",
       "      <td>Yes</td>\n",
       "      <td>1</td>\n",
       "    </tr>\n",
       "    <tr>\n",
       "      <th>3</th>\n",
       "      <td>2010</td>\n",
       "      <td>2013</td>\n",
       "      <td>White - Non-Hispanic</td>\n",
       "      <td>55 and Older</td>\n",
       "      <td>C Felony</td>\n",
       "      <td>Drug</td>\n",
       "      <td>8JD</td>\n",
       "      <td>Parole</td>\n",
       "      <td>Yes</td>\n",
       "      <td>1</td>\n",
       "    </tr>\n",
       "    <tr>\n",
       "      <th>4</th>\n",
       "      <td>2010</td>\n",
       "      <td>2013</td>\n",
       "      <td>Black - Non-Hispanic</td>\n",
       "      <td>25-34</td>\n",
       "      <td>D Felony</td>\n",
       "      <td>Drug</td>\n",
       "      <td>3JD</td>\n",
       "      <td>Parole</td>\n",
       "      <td>Yes</td>\n",
       "      <td>1</td>\n",
       "    </tr>\n",
       "    <tr>\n",
       "      <th>...</th>\n",
       "      <td>...</td>\n",
       "      <td>...</td>\n",
       "      <td>...</td>\n",
       "      <td>...</td>\n",
       "      <td>...</td>\n",
       "      <td>...</td>\n",
       "      <td>...</td>\n",
       "      <td>...</td>\n",
       "      <td>...</td>\n",
       "      <td>...</td>\n",
       "    </tr>\n",
       "    <tr>\n",
       "      <th>26015</th>\n",
       "      <td>2015</td>\n",
       "      <td>2018</td>\n",
       "      <td>White - Hispanic</td>\n",
       "      <td>25-34</td>\n",
       "      <td>C Felony</td>\n",
       "      <td>Violent</td>\n",
       "      <td>Not Mentioned</td>\n",
       "      <td>Discharged End of Sentence</td>\n",
       "      <td>Yes</td>\n",
       "      <td>0</td>\n",
       "    </tr>\n",
       "    <tr>\n",
       "      <th>26016</th>\n",
       "      <td>2015</td>\n",
       "      <td>2018</td>\n",
       "      <td>White - Non-Hispanic</td>\n",
       "      <td>25-34</td>\n",
       "      <td>D Felony</td>\n",
       "      <td>Property</td>\n",
       "      <td>5JD</td>\n",
       "      <td>Paroled to Detainer</td>\n",
       "      <td>No</td>\n",
       "      <td>0</td>\n",
       "    </tr>\n",
       "    <tr>\n",
       "      <th>26017</th>\n",
       "      <td>2015</td>\n",
       "      <td>2018</td>\n",
       "      <td>Black - Non-Hispanic</td>\n",
       "      <td>Under 25</td>\n",
       "      <td>Aggravated Misdemeanor</td>\n",
       "      <td>Violent</td>\n",
       "      <td>1JD</td>\n",
       "      <td>Discharged End of Sentence</td>\n",
       "      <td>Yes</td>\n",
       "      <td>0</td>\n",
       "    </tr>\n",
       "    <tr>\n",
       "      <th>26018</th>\n",
       "      <td>2015</td>\n",
       "      <td>2018</td>\n",
       "      <td>White - Non-Hispanic</td>\n",
       "      <td>Under 25</td>\n",
       "      <td>D Felony</td>\n",
       "      <td>Drug</td>\n",
       "      <td>5JD</td>\n",
       "      <td>Parole</td>\n",
       "      <td>No</td>\n",
       "      <td>0</td>\n",
       "    </tr>\n",
       "    <tr>\n",
       "      <th>26019</th>\n",
       "      <td>2015</td>\n",
       "      <td>2018</td>\n",
       "      <td>White - Non-Hispanic</td>\n",
       "      <td>35-44</td>\n",
       "      <td>C Felony</td>\n",
       "      <td>Violent</td>\n",
       "      <td>Not Mentioned</td>\n",
       "      <td>Parole</td>\n",
       "      <td>No</td>\n",
       "      <td>0</td>\n",
       "    </tr>\n",
       "  </tbody>\n",
       "</table>\n",
       "<p>26020 rows × 10 columns</p>\n",
       "</div>"
      ],
      "text/plain": [
       "       Fiscal Year Released  Recidivism Reporting Year      Race - Ethnicity  \\\n",
       "0                      2010                       2013  White - Non-Hispanic   \n",
       "1                      2010                       2013  White - Non-Hispanic   \n",
       "2                      2010                       2013  White - Non-Hispanic   \n",
       "3                      2010                       2013  White - Non-Hispanic   \n",
       "4                      2010                       2013  Black - Non-Hispanic   \n",
       "...                     ...                        ...                   ...   \n",
       "26015                  2015                       2018      White - Hispanic   \n",
       "26016                  2015                       2018  White - Non-Hispanic   \n",
       "26017                  2015                       2018  Black - Non-Hispanic   \n",
       "26018                  2015                       2018  White - Non-Hispanic   \n",
       "26019                  2015                       2018  White - Non-Hispanic   \n",
       "\n",
       "      Age At Release  Convicting Offense Classification  \\\n",
       "0            Under 25                          D Felony   \n",
       "1        55 and Older                          D Felony   \n",
       "2               25-34                          D Felony   \n",
       "3        55 and Older                          C Felony   \n",
       "4               25-34                          D Felony   \n",
       "...               ...                               ...   \n",
       "26015           25-34                          C Felony   \n",
       "26016           25-34                          D Felony   \n",
       "26017        Under 25            Aggravated Misdemeanor   \n",
       "26018        Under 25                          D Felony   \n",
       "26019           35-44                          C Felony   \n",
       "\n",
       "      Convicting Offense Type Main Supervising District  \\\n",
       "0                     Violent                       4JD   \n",
       "1                Public Order                       7JD   \n",
       "2                    Property                       5JD   \n",
       "3                        Drug                       8JD   \n",
       "4                        Drug                       3JD   \n",
       "...                       ...                       ...   \n",
       "26015                 Violent             Not Mentioned   \n",
       "26016                Property                       5JD   \n",
       "26017                 Violent                       1JD   \n",
       "26018                    Drug                       5JD   \n",
       "26019                 Violent             Not Mentioned   \n",
       "\n",
       "      Release type: Paroled to Detainer united Part of Target Population  \\\n",
       "0                                       Parole                       Yes   \n",
       "1                                       Parole                       Yes   \n",
       "2                                       Parole                       Yes   \n",
       "3                                       Parole                       Yes   \n",
       "4                                       Parole                       Yes   \n",
       "...                                        ...                       ...   \n",
       "26015               Discharged End of Sentence                       Yes   \n",
       "26016                      Paroled to Detainer                        No   \n",
       "26017               Discharged End of Sentence                       Yes   \n",
       "26018                                   Parole                        No   \n",
       "26019                                   Parole                        No   \n",
       "\n",
       "       Recidivism - Return to Prison numeric  \n",
       "0                                          1  \n",
       "1                                          1  \n",
       "2                                          1  \n",
       "3                                          1  \n",
       "4                                          1  \n",
       "...                                      ...  \n",
       "26015                                      0  \n",
       "26016                                      0  \n",
       "26017                                      0  \n",
       "26018                                      0  \n",
       "26019                                      0  \n",
       "\n",
       "[26020 rows x 10 columns]"
      ]
     },
     "execution_count": 116,
     "metadata": {},
     "output_type": "execute_result"
    }
   ],
   "source": [
    "import pandas as pd\n",
    "df = pd.read_csv('3_year_recidivism_elaborated_2.csv')\n",
    "df"
   ]
  },
  {
   "cell_type": "code",
   "execution_count": 117,
   "id": "bf842b78-f305-4d06-96b1-34c3314daa78",
   "metadata": {},
   "outputs": [
    {
     "name": "stdout",
     "output_type": "stream",
     "text": [
      "<class 'pandas.core.frame.DataFrame'>\n",
      "RangeIndex: 26020 entries, 0 to 26019\n",
      "Data columns (total 10 columns):\n",
      " #   Column                                    Non-Null Count  Dtype \n",
      "---  ------                                    --------------  ----- \n",
      " 0   Fiscal Year Released                      26020 non-null  int64 \n",
      " 1   Recidivism Reporting Year                 26020 non-null  int64 \n",
      " 2   Race - Ethnicity                          26020 non-null  object\n",
      " 3   Age At Release                            26020 non-null  object\n",
      " 4   Convicting Offense Classification         26020 non-null  object\n",
      " 5   Convicting Offense Type                   26020 non-null  object\n",
      " 6   Main Supervising District                 26020 non-null  object\n",
      " 7   Release type: Paroled to Detainer united  26020 non-null  object\n",
      " 8   Part of Target Population                 26020 non-null  object\n",
      " 9   Recidivism - Return to Prison numeric     26020 non-null  int64 \n",
      "dtypes: int64(3), object(7)\n",
      "memory usage: 2.0+ MB\n"
     ]
    }
   ],
   "source": [
    "df.info()"
   ]
  },
  {
   "cell_type": "markdown",
   "id": "43598e22-91f7-4bed-b142-7fee0ed2c405",
   "metadata": {},
   "source": [
    "Here, I can see there are many string-type variables, but each column fortunately has the same amount of rows. Because of this, I will need to do simple feature engineering like one hot encoding"
   ]
  },
  {
   "cell_type": "code",
   "execution_count": 129,
   "id": "90479e94-64b0-40db-88db-7abc5b29adb5",
   "metadata": {},
   "outputs": [],
   "source": [
    "x = df.iloc[:,:-1].values #target\n",
    "y = df.iloc[:,-1].values\n",
    "enc = OneHotEncoder(sparse=False)\n",
    "one_hot_x = enc.fit_transform(x)\n"
   ]
  },
  {
   "cell_type": "code",
   "execution_count": 130,
   "id": "f1fe125a-3831-4d53-8d6c-fbc82f16f6ff",
   "metadata": {},
   "outputs": [
    {
     "data": {
      "text/plain": [
       "array([[0., 0., 1., ..., 0., 1., 0.],\n",
       "       [0., 0., 1., ..., 0., 1., 0.],\n",
       "       [1., 0., 0., ..., 0., 1., 0.],\n",
       "       ...,\n",
       "       [0., 0., 0., ..., 0., 1., 0.],\n",
       "       [0., 0., 1., ..., 0., 1., 0.],\n",
       "       [0., 0., 0., ..., 1., 0., 1.]])"
      ]
     },
     "execution_count": 130,
     "metadata": {},
     "output_type": "execute_result"
    }
   ],
   "source": [
    "from sklearn.model_selection import train_test_split\n",
    "\n",
    "train_x, test_x, train_y, test_y = train_test_split(one_hot_x, y, test_size=0.4)\n",
    "test_x"
   ]
  },
  {
   "cell_type": "code",
   "execution_count": 131,
   "id": "090ea7c8-ccda-4673-85b0-54ea11cef6cf",
   "metadata": {},
   "outputs": [
    {
     "data": {
      "text/plain": [
       "(15612, 68)"
      ]
     },
     "execution_count": 131,
     "metadata": {},
     "output_type": "execute_result"
    }
   ],
   "source": [
    "train_x.shape\n",
    "#we want number of rows to be much larger than the number of features/columns."
   ]
  },
  {
   "cell_type": "code",
   "execution_count": 132,
   "id": "6025853b-ad63-4244-9503-e1e352935f5c",
   "metadata": {},
   "outputs": [
    {
     "data": {
      "text/plain": [
       "LogisticRegression(max_iter=1000)"
      ]
     },
     "execution_count": 132,
     "metadata": {},
     "output_type": "execute_result"
    }
   ],
   "source": [
    "from sklearn.linear_model import LogisticRegression\n",
    "\n",
    "clf = LogisticRegression(max_iter=1000)\n",
    "clf.fit(train_x, train_y)"
   ]
  },
  {
   "cell_type": "code",
   "execution_count": 133,
   "id": "0e329438-e811-48d2-bf8e-d12c1aa5db08",
   "metadata": {},
   "outputs": [
    {
     "data": {
      "text/plain": [
       "array([0, 0, 0, ..., 0, 0, 1])"
      ]
     },
     "execution_count": 133,
     "metadata": {},
     "output_type": "execute_result"
    }
   ],
   "source": [
    "hyp = clf.predict(test_x)\n",
    "hyp"
   ]
  },
  {
   "cell_type": "code",
   "execution_count": 134,
   "id": "7022a381-7aaf-402d-b860-f1e1882fe132",
   "metadata": {},
   "outputs": [
    {
     "data": {
      "text/plain": [
       "0.6834166026133743"
      ]
     },
     "execution_count": 134,
     "metadata": {},
     "output_type": "execute_result"
    }
   ],
   "source": [
    "from sklearn.metrics import accuracy_score\n",
    "accuracy_score(test_y, clf.predict(test_x))"
   ]
  },
  {
   "cell_type": "code",
   "execution_count": 135,
   "id": "fcea00e6-4129-489c-a79e-afb08f218452",
   "metadata": {},
   "outputs": [
    {
     "data": {
      "text/plain": [
       "array([[6521,  485],\n",
       "       [2810,  592]])"
      ]
     },
     "execution_count": 135,
     "metadata": {},
     "output_type": "execute_result"
    }
   ],
   "source": [
    "from sklearn.metrics import confusion_matrix\n",
    "confusion_matrix(test_y, hyp)"
   ]
  },
  {
   "cell_type": "markdown",
   "id": "81a69866-6eb4-4bff-8eee-2000d2cdc2f3",
   "metadata": {},
   "source": [
    "when it thinks someone is not recidivised, it is right 6520 times. there are 6520 true positives, and 559 true negatives. There are a lot of false negatives"
   ]
  },
  {
   "cell_type": "code",
   "execution_count": 136,
   "id": "314a38fe-6de1-4116-93ad-6629dbef4f9d",
   "metadata": {},
   "outputs": [
    {
     "data": {
      "text/plain": [
       "GridSearchCV(cv=5, estimator=LogisticRegression(solver='liblinear'),\n",
       "             param_grid={'C': [0.0001, 0.001, 0.01, 0.1, 1, 10, 100, 1000,\n",
       "                               10000],\n",
       "                         'penalty': ['l1', 'l2']})"
      ]
     },
     "execution_count": 136,
     "metadata": {},
     "output_type": "execute_result"
    }
   ],
   "source": [
    "from sklearn.model_selection import GridSearchCV\n",
    "parameters = {'penalty': ['l1', 'l2'],     #two types of penalized regressions: ridge and lasso. \n",
    "             'C': [1e-4, 1e-3, 1e-2, 0.1, 1, 10, 100, 1000, 10000]} #constraints \n",
    "#l1 corresponds to lasso, l2 corresponds to ridge\n",
    "\n",
    "lr = LogisticRegression(solver='liblinear')\n",
    "clf = GridSearchCV(lr, parameters, cv=5) #classifier is gridsearchCV, pass in logistic regression, the parameters, how many folds you want\n",
    "clf.fit(train_x, train_y)"
   ]
  },
  {
   "cell_type": "code",
   "execution_count": 137,
   "id": "cb172f0d-a1bb-4d42-ac6e-f0c53ac9dead",
   "metadata": {},
   "outputs": [
    {
     "data": {
      "text/plain": [
       "0.6682685323475699"
      ]
     },
     "execution_count": 137,
     "metadata": {},
     "output_type": "execute_result"
    }
   ],
   "source": [
    "clf.best_score_"
   ]
  },
  {
   "cell_type": "code",
   "execution_count": 138,
   "id": "e4c66ed6-1722-42fd-8c34-0d94d5283a25",
   "metadata": {},
   "outputs": [
    {
     "data": {
      "text/plain": [
       "0.6840891621829363"
      ]
     },
     "execution_count": 138,
     "metadata": {},
     "output_type": "execute_result"
    }
   ],
   "source": [
    "accuracy_score(test_y, clf.predict(test_x))\n"
   ]
  },
  {
   "cell_type": "markdown",
   "id": "9b2b9d12-9744-4847-a529-d76f64f36d55",
   "metadata": {},
   "source": [
    "Overall, we have about a 68% accuracy through training with logistic regression. Though this could be worse, it is not where I would like it to be"
   ]
  },
  {
   "cell_type": "code",
   "execution_count": null,
   "id": "bc9bb07c-daa0-4a80-97c1-9638538a052a",
   "metadata": {},
   "outputs": [],
   "source": []
  },
  {
   "cell_type": "code",
   "execution_count": null,
   "id": "4ad70bec-bf28-4de2-9da1-eda239cc7c5b",
   "metadata": {},
   "outputs": [],
   "source": []
  },
  {
   "cell_type": "code",
   "execution_count": null,
   "id": "8b4be91c-f3f4-4264-a428-24bd1f401e7a",
   "metadata": {},
   "outputs": [],
   "source": []
  },
  {
   "cell_type": "code",
   "execution_count": null,
   "id": "d849f90a-7c05-49b0-90e3-6a81ad8a9d7c",
   "metadata": {},
   "outputs": [],
   "source": []
  },
  {
   "cell_type": "code",
   "execution_count": null,
   "id": "9cf20a7f-11d1-46fa-9056-ecdf298db093",
   "metadata": {},
   "outputs": [],
   "source": []
  },
  {
   "cell_type": "code",
   "execution_count": null,
   "id": "4debf4ba-4be4-475a-b809-5e4ff8d7748f",
   "metadata": {},
   "outputs": [],
   "source": []
  },
  {
   "cell_type": "code",
   "execution_count": null,
   "id": "5d53b79a-d88d-415d-8171-c809df4902d8",
   "metadata": {},
   "outputs": [],
   "source": []
  }
 ],
 "metadata": {
  "kernelspec": {
   "display_name": "Python 3",
   "language": "python",
   "name": "python3"
  },
  "language_info": {
   "codemirror_mode": {
    "name": "ipython",
    "version": 3
   },
   "file_extension": ".py",
   "mimetype": "text/x-python",
   "name": "python",
   "nbconvert_exporter": "python",
   "pygments_lexer": "ipython3",
   "version": "3.8.8"
  }
 },
 "nbformat": 4,
 "nbformat_minor": 5
}
